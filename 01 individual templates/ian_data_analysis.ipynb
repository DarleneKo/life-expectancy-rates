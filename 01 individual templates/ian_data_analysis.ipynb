{
 "cells": [
  {
   "cell_type": "markdown",
   "metadata": {},
   "source": [
    "LIFE EXPECTANCY:  DATA ANALYSIS\n",
    "\n",
    "Note - This is the Individual Jupyter Notebook to merge into the MASTER Data Analysis Jupyter Notebook\n",
    "\n",
    "### How do the two lifestyle factors (alcohol consumption, BMI) relate to life expectancy?"
   ]
  },
  {
   "cell_type": "code",
   "execution_count": 2,
   "metadata": {},
   "outputs": [
    {
     "data": {
      "text/html": [
       "<div>\n",
       "<style scoped>\n",
       "    .dataframe tbody tr th:only-of-type {\n",
       "        vertical-align: middle;\n",
       "    }\n",
       "\n",
       "    .dataframe tbody tr th {\n",
       "        vertical-align: top;\n",
       "    }\n",
       "\n",
       "    .dataframe thead th {\n",
       "        text-align: right;\n",
       "    }\n",
       "</style>\n",
       "<table border=\"1\" class=\"dataframe\">\n",
       "  <thead>\n",
       "    <tr style=\"text-align: right;\">\n",
       "      <th></th>\n",
       "      <th>Unnamed: 0</th>\n",
       "      <th>Country</th>\n",
       "      <th>Year</th>\n",
       "      <th>Status</th>\n",
       "      <th>Population</th>\n",
       "      <th>Life Expectancy</th>\n",
       "      <th>Adult Mortality</th>\n",
       "      <th>Under-Five Deaths</th>\n",
       "      <th>Infant Deaths</th>\n",
       "      <th>HIV/AIDS</th>\n",
       "      <th>...</th>\n",
       "      <th>Polio</th>\n",
       "      <th>Thinness 5-9 years</th>\n",
       "      <th>Thinness 1-19 years</th>\n",
       "      <th>Alcohol</th>\n",
       "      <th>BMI</th>\n",
       "      <th>GDP</th>\n",
       "      <th>Percentage Expenditure</th>\n",
       "      <th>Total Expenditure</th>\n",
       "      <th>Income Composition of Resources</th>\n",
       "      <th>Schooling</th>\n",
       "    </tr>\n",
       "  </thead>\n",
       "  <tbody>\n",
       "    <tr>\n",
       "      <td>0</td>\n",
       "      <td>0</td>\n",
       "      <td>Afghanistan</td>\n",
       "      <td>2015</td>\n",
       "      <td>Developing</td>\n",
       "      <td>33736494.0</td>\n",
       "      <td>65.0</td>\n",
       "      <td>263.0</td>\n",
       "      <td>83</td>\n",
       "      <td>62</td>\n",
       "      <td>0.1</td>\n",
       "      <td>...</td>\n",
       "      <td>6.0</td>\n",
       "      <td>17.3</td>\n",
       "      <td>17.2</td>\n",
       "      <td>0.01</td>\n",
       "      <td>19.1</td>\n",
       "      <td>584.259210</td>\n",
       "      <td>71.279624</td>\n",
       "      <td>8.16</td>\n",
       "      <td>0.479</td>\n",
       "      <td>10.1</td>\n",
       "    </tr>\n",
       "    <tr>\n",
       "      <td>1</td>\n",
       "      <td>1</td>\n",
       "      <td>Afghanistan</td>\n",
       "      <td>2014</td>\n",
       "      <td>Developing</td>\n",
       "      <td>327582.0</td>\n",
       "      <td>59.9</td>\n",
       "      <td>271.0</td>\n",
       "      <td>86</td>\n",
       "      <td>64</td>\n",
       "      <td>0.1</td>\n",
       "      <td>...</td>\n",
       "      <td>58.0</td>\n",
       "      <td>17.5</td>\n",
       "      <td>17.5</td>\n",
       "      <td>0.01</td>\n",
       "      <td>18.6</td>\n",
       "      <td>612.696514</td>\n",
       "      <td>73.523582</td>\n",
       "      <td>8.18</td>\n",
       "      <td>0.476</td>\n",
       "      <td>10.0</td>\n",
       "    </tr>\n",
       "    <tr>\n",
       "      <td>2</td>\n",
       "      <td>2</td>\n",
       "      <td>Afghanistan</td>\n",
       "      <td>2013</td>\n",
       "      <td>Developing</td>\n",
       "      <td>31731688.0</td>\n",
       "      <td>59.9</td>\n",
       "      <td>268.0</td>\n",
       "      <td>89</td>\n",
       "      <td>66</td>\n",
       "      <td>0.1</td>\n",
       "      <td>...</td>\n",
       "      <td>62.0</td>\n",
       "      <td>17.7</td>\n",
       "      <td>17.7</td>\n",
       "      <td>0.01</td>\n",
       "      <td>18.1</td>\n",
       "      <td>631.744976</td>\n",
       "      <td>73.219243</td>\n",
       "      <td>8.13</td>\n",
       "      <td>0.470</td>\n",
       "      <td>9.9</td>\n",
       "    </tr>\n",
       "    <tr>\n",
       "      <td>3</td>\n",
       "      <td>3</td>\n",
       "      <td>Afghanistan</td>\n",
       "      <td>2012</td>\n",
       "      <td>Developing</td>\n",
       "      <td>3696958.0</td>\n",
       "      <td>59.5</td>\n",
       "      <td>272.0</td>\n",
       "      <td>93</td>\n",
       "      <td>69</td>\n",
       "      <td>0.1</td>\n",
       "      <td>...</td>\n",
       "      <td>67.0</td>\n",
       "      <td>18.0</td>\n",
       "      <td>17.9</td>\n",
       "      <td>0.01</td>\n",
       "      <td>17.6</td>\n",
       "      <td>669.959000</td>\n",
       "      <td>78.184215</td>\n",
       "      <td>8.52</td>\n",
       "      <td>0.463</td>\n",
       "      <td>9.8</td>\n",
       "    </tr>\n",
       "    <tr>\n",
       "      <td>4</td>\n",
       "      <td>4</td>\n",
       "      <td>Afghanistan</td>\n",
       "      <td>2011</td>\n",
       "      <td>Developing</td>\n",
       "      <td>2978599.0</td>\n",
       "      <td>59.2</td>\n",
       "      <td>275.0</td>\n",
       "      <td>97</td>\n",
       "      <td>71</td>\n",
       "      <td>0.1</td>\n",
       "      <td>...</td>\n",
       "      <td>68.0</td>\n",
       "      <td>18.2</td>\n",
       "      <td>18.2</td>\n",
       "      <td>0.01</td>\n",
       "      <td>17.2</td>\n",
       "      <td>63.537231</td>\n",
       "      <td>7.097109</td>\n",
       "      <td>7.87</td>\n",
       "      <td>0.454</td>\n",
       "      <td>9.5</td>\n",
       "    </tr>\n",
       "  </tbody>\n",
       "</table>\n",
       "<p>5 rows × 23 columns</p>\n",
       "</div>"
      ],
      "text/plain": [
       "   Unnamed: 0      Country  Year      Status  Population  Life Expectancy  \\\n",
       "0           0  Afghanistan  2015  Developing  33736494.0             65.0   \n",
       "1           1  Afghanistan  2014  Developing    327582.0             59.9   \n",
       "2           2  Afghanistan  2013  Developing  31731688.0             59.9   \n",
       "3           3  Afghanistan  2012  Developing   3696958.0             59.5   \n",
       "4           4  Afghanistan  2011  Developing   2978599.0             59.2   \n",
       "\n",
       "   Adult Mortality  Under-Five Deaths  Infant Deaths  HIV/AIDS  ...  Polio  \\\n",
       "0            263.0                 83             62       0.1  ...    6.0   \n",
       "1            271.0                 86             64       0.1  ...   58.0   \n",
       "2            268.0                 89             66       0.1  ...   62.0   \n",
       "3            272.0                 93             69       0.1  ...   67.0   \n",
       "4            275.0                 97             71       0.1  ...   68.0   \n",
       "\n",
       "   Thinness 5-9 years  Thinness 1-19 years  Alcohol   BMI         GDP  \\\n",
       "0                17.3                 17.2     0.01  19.1  584.259210   \n",
       "1                17.5                 17.5     0.01  18.6  612.696514   \n",
       "2                17.7                 17.7     0.01  18.1  631.744976   \n",
       "3                18.0                 17.9     0.01  17.6  669.959000   \n",
       "4                18.2                 18.2     0.01  17.2   63.537231   \n",
       "\n",
       "   Percentage Expenditure  Total Expenditure  Income Composition of Resources  \\\n",
       "0               71.279624               8.16                            0.479   \n",
       "1               73.523582               8.18                            0.476   \n",
       "2               73.219243               8.13                            0.470   \n",
       "3               78.184215               8.52                            0.463   \n",
       "4                7.097109               7.87                            0.454   \n",
       "\n",
       "   Schooling  \n",
       "0       10.1  \n",
       "1       10.0  \n",
       "2        9.9  \n",
       "3        9.8  \n",
       "4        9.5  \n",
       "\n",
       "[5 rows x 23 columns]"
      ]
     },
     "execution_count": 2,
     "metadata": {},
     "output_type": "execute_result"
    }
   ],
   "source": [
    "import pandas as pd\n",
    "import matplotlib.pyplot as plt\n",
    "%matplotlib notebook\n",
    "\n",
    "file = \"../cleaned_data_output.csv\"\n",
    "df = pd.read_csv(file)\n",
    "df.head()"
   ]
  },
  {
   "cell_type": "code",
   "execution_count": 3,
   "metadata": {},
   "outputs": [],
   "source": [
    "#Set the index as the 'status' of each country\n",
    "status_df = df.set_index(\"Status\")\n",
    "categories = ['Underweight', 'Normal Weight', 'Overweight', 'Obese']\n",
    "bins = [-1, 18.5, 24.9, 29.9, 100]\n",
    "\n",
    "#Separate developed/developing countries\n",
    "developing = status_df.loc['Developing']\n",
    "developed = status_df.loc['Developed']\n",
    "\n",
    "#Gather data from Alcohol, BMI, and Life Expectancy columns\n",
    "developed_alcohol = developed.groupby('Year')['Alcohol'].mean()\n",
    "developed_life_expectancy = developed.groupby('Year')['Life Expectancy'].mean()\n",
    "\n",
    "developing_alcohol = developing.groupby('Year')['Alcohol'].mean()\n",
    "developing_life_expectancy = developing.groupby('Year')['Life Expectancy'].mean()\n",
    "\n",
    "developed_bmi = developed.groupby('Year')['BMI'].mean()\n",
    "developing_bmi = developing.groupby('Year')['BMI'].mean()\n",
    "\n",
    "years = developed['Year'].unique()\n",
    "years1 = developing['Year'].unique()"
   ]
  },
  {
   "cell_type": "code",
   "execution_count": 4,
   "metadata": {},
   "outputs": [
    {
     "data": {
      "image/png": "[encoded data removed]",
      "text/plain": [
       "<Figure size 432x288 with 1 Axes>"
      ]
     },
     "metadata": {
      "needs_background": "light"
     },
     "output_type": "display_data"
    }
   ],
   "source": [
    "#Plot Alcohol over Time for developed and developing countries\n",
    "fig1 = plt.figure(1)\n",
    "dev_alc_graph = plt.plot(years, developed_alcohol, color='Blue', label='Developed')\n",
    "deving_alc_graph = plt.plot(years1, developing_alcohol, color='red', label='Developing')\n",
    "plt.title(\"Alcohol Consumption over Time for Developed and Developing Countries\")\n",
    "plt.xlabel(\"Years\")\n",
    "plt.ylabel(\"Alcohol Consumption per capita income (Liters)\")\n",
    "plt.legend()\n",
    "plt.show()"
   ]
  },
  {
   "cell_type": "code",
   "execution_count": 5,
   "metadata": {},
   "outputs": [],
   "source": [
    "plt.close(fig1)"
   ]
  },
  {
   "cell_type": "code",
   "execution_count": 6,
   "metadata": {},
   "outputs": [
    {
     "data": {
      "image/png": "[encoded data removed]",
      "text/plain": [
       "<Figure size 432x288 with 1 Axes>"
      ]
     },
     "metadata": {
      "needs_background": "light"
     },
     "output_type": "display_data"
    }
   ],
   "source": [
    "#Plot BMI over Time for developed and developing countries\n",
    "fig2 = plt.figure(2)\n",
    "dev_bmi_graph = plt.plot(years, developed_bmi, color='Blue', label='Developed')\n",
    "deving_bmi_graph = plt.plot(years1, developing_bmi, color='red', label='Developing')\n",
    "plt.title(\"BMI over Time for Developed and Developing Countries\")\n",
    "plt.xlabel(\"Years\")\n",
    "plt.ylabel(\"BMI\")\n",
    "plt.legend()\n",
    "plt.show()"
   ]
  },
  {
   "cell_type": "code",
   "execution_count": 7,
   "metadata": {},
   "outputs": [],
   "source": [
    "plt.close(fig2)"
   ]
  },
  {
   "cell_type": "code",
   "execution_count": 8,
   "metadata": {},
   "outputs": [
    {
     "data": {
      "image/png": "[encoded data removed]",
      "text/plain": [
       "<Figure size 432x288 with 1 Axes>"
      ]
     },
     "metadata": {
      "needs_background": "light"
     },
     "output_type": "display_data"
    }
   ],
   "source": [
    "#Plot Life Expectancy over Time for developed and developing countries\n",
    "fig3 = plt.figure(3)\n",
    "dev_le_graph = plt.plot(years, developed_life_expectancy, color='Blue', label='Developed')\n",
    "deving_le_graph = plt.plot(years1, developing_life_expectancy, color='red', label='Developing')\n",
    "plt.title(\"Life Expectancy over Time for Developed and Developing Countries\")\n",
    "plt.xlabel(\"Years\")\n",
    "plt.ylabel(\"Life Expectancy\")\n",
    "plt.legend()\n",
    "plt.show()"
   ]
  },
  {
   "cell_type": "code",
   "execution_count": 9,
   "metadata": {},
   "outputs": [],
   "source": [
    "plt.close(fig3)"
   ]
  },
  {
   "cell_type": "code",
   "execution_count": null,
   "metadata": {},
   "outputs": [],
   "source": []
  }
 ],
 "metadata": {
  "kernelspec": {
   "display_name": "Python 3",
   "language": "python",
   "name": "python3"
  },
  "language_info": {
   "codemirror_mode": {
    "name": "ipython",
    "version": 3
   },
   "file_extension": ".py",
   "mimetype": "text/x-python",
   "name": "python",
   "nbconvert_exporter": "python",
   "pygments_lexer": "ipython3",
   "version": "3.7.4"
  }
 },
 "nbformat": 4,
 "nbformat_minor": 2
}
