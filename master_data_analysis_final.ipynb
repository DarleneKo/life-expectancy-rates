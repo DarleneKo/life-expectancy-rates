{
 "cells": [
  {
   "cell_type": "markdown",
   "metadata": {
    "scrolled": true
   },
   "source": [
    "# Question 1a:  What is the overall trend of the average global life expectancy from 2000 to 2014 in developed vs. developing countries?"
   ]
  },
  {
   "cell_type": "code",
   "execution_count": 1,
   "metadata": {},
   "outputs": [
    {
     "data": {
      "text/html": [
       "<div>\n",
       "<style scoped>\n",
       "    .dataframe tbody tr th:only-of-type {\n",
       "        vertical-align: middle;\n",
       "    }\n",
       "\n",
       "    .dataframe tbody tr th {\n",
       "        vertical-align: top;\n",
       "    }\n",
       "\n",
       "    .dataframe thead th {\n",
       "        text-align: right;\n",
       "    }\n",
       "</style>\n",
       "<table border=\"1\" class=\"dataframe\">\n",
       "  <thead>\n",
       "    <tr style=\"text-align: right;\">\n",
       "      <th></th>\n",
       "      <th>Country</th>\n",
       "      <th>Year</th>\n",
       "      <th>Status</th>\n",
       "      <th>Life Expectancy</th>\n",
       "      <th>Population</th>\n",
       "      <th>Adult Mortality</th>\n",
       "      <th>Under-Five Deaths</th>\n",
       "      <th>Infant Deaths</th>\n",
       "      <th>HIV/AIDS</th>\n",
       "      <th>Diphtheria</th>\n",
       "      <th>...</th>\n",
       "      <th>Polio</th>\n",
       "      <th>Thinness 5-9 years</th>\n",
       "      <th>Thinness 1-19 years</th>\n",
       "      <th>Alcohol</th>\n",
       "      <th>BMI</th>\n",
       "      <th>GDP</th>\n",
       "      <th>Percentage Expenditure</th>\n",
       "      <th>Total Expenditure</th>\n",
       "      <th>Income Composition of Resources</th>\n",
       "      <th>Schooling</th>\n",
       "    </tr>\n",
       "  </thead>\n",
       "  <tbody>\n",
       "    <tr>\n",
       "      <td>0</td>\n",
       "      <td>Afghanistan</td>\n",
       "      <td>2014</td>\n",
       "      <td>Developing</td>\n",
       "      <td>59.9</td>\n",
       "      <td>327582.0</td>\n",
       "      <td>271.0</td>\n",
       "      <td>86</td>\n",
       "      <td>64</td>\n",
       "      <td>0.1</td>\n",
       "      <td>62.0</td>\n",
       "      <td>...</td>\n",
       "      <td>58.0</td>\n",
       "      <td>17.5</td>\n",
       "      <td>17.5</td>\n",
       "      <td>0.01</td>\n",
       "      <td>18.6</td>\n",
       "      <td>612.696514</td>\n",
       "      <td>73.523582</td>\n",
       "      <td>8.18</td>\n",
       "      <td>0.476</td>\n",
       "      <td>10.0</td>\n",
       "    </tr>\n",
       "    <tr>\n",
       "      <td>1</td>\n",
       "      <td>Afghanistan</td>\n",
       "      <td>2013</td>\n",
       "      <td>Developing</td>\n",
       "      <td>59.9</td>\n",
       "      <td>31731688.0</td>\n",
       "      <td>268.0</td>\n",
       "      <td>89</td>\n",
       "      <td>66</td>\n",
       "      <td>0.1</td>\n",
       "      <td>64.0</td>\n",
       "      <td>...</td>\n",
       "      <td>62.0</td>\n",
       "      <td>17.7</td>\n",
       "      <td>17.7</td>\n",
       "      <td>0.01</td>\n",
       "      <td>18.1</td>\n",
       "      <td>631.744976</td>\n",
       "      <td>73.219243</td>\n",
       "      <td>8.13</td>\n",
       "      <td>0.470</td>\n",
       "      <td>9.9</td>\n",
       "    </tr>\n",
       "    <tr>\n",
       "      <td>2</td>\n",
       "      <td>Afghanistan</td>\n",
       "      <td>2012</td>\n",
       "      <td>Developing</td>\n",
       "      <td>59.5</td>\n",
       "      <td>3696958.0</td>\n",
       "      <td>272.0</td>\n",
       "      <td>93</td>\n",
       "      <td>69</td>\n",
       "      <td>0.1</td>\n",
       "      <td>67.0</td>\n",
       "      <td>...</td>\n",
       "      <td>67.0</td>\n",
       "      <td>18.0</td>\n",
       "      <td>17.9</td>\n",
       "      <td>0.01</td>\n",
       "      <td>17.6</td>\n",
       "      <td>669.959000</td>\n",
       "      <td>78.184215</td>\n",
       "      <td>8.52</td>\n",
       "      <td>0.463</td>\n",
       "      <td>9.8</td>\n",
       "    </tr>\n",
       "    <tr>\n",
       "      <td>3</td>\n",
       "      <td>Afghanistan</td>\n",
       "      <td>2011</td>\n",
       "      <td>Developing</td>\n",
       "      <td>59.2</td>\n",
       "      <td>2978599.0</td>\n",
       "      <td>275.0</td>\n",
       "      <td>97</td>\n",
       "      <td>71</td>\n",
       "      <td>0.1</td>\n",
       "      <td>68.0</td>\n",
       "      <td>...</td>\n",
       "      <td>68.0</td>\n",
       "      <td>18.2</td>\n",
       "      <td>18.2</td>\n",
       "      <td>0.01</td>\n",
       "      <td>17.2</td>\n",
       "      <td>63.537231</td>\n",
       "      <td>7.097109</td>\n",
       "      <td>7.87</td>\n",
       "      <td>0.454</td>\n",
       "      <td>9.5</td>\n",
       "    </tr>\n",
       "    <tr>\n",
       "      <td>4</td>\n",
       "      <td>Afghanistan</td>\n",
       "      <td>2010</td>\n",
       "      <td>Developing</td>\n",
       "      <td>58.8</td>\n",
       "      <td>2883167.0</td>\n",
       "      <td>279.0</td>\n",
       "      <td>102</td>\n",
       "      <td>74</td>\n",
       "      <td>0.1</td>\n",
       "      <td>66.0</td>\n",
       "      <td>...</td>\n",
       "      <td>66.0</td>\n",
       "      <td>18.4</td>\n",
       "      <td>18.4</td>\n",
       "      <td>0.01</td>\n",
       "      <td>16.7</td>\n",
       "      <td>553.328940</td>\n",
       "      <td>79.679367</td>\n",
       "      <td>9.20</td>\n",
       "      <td>0.448</td>\n",
       "      <td>9.2</td>\n",
       "    </tr>\n",
       "    <tr>\n",
       "      <td>...</td>\n",
       "      <td>...</td>\n",
       "      <td>...</td>\n",
       "      <td>...</td>\n",
       "      <td>...</td>\n",
       "      <td>...</td>\n",
       "      <td>...</td>\n",
       "      <td>...</td>\n",
       "      <td>...</td>\n",
       "      <td>...</td>\n",
       "      <td>...</td>\n",
       "      <td>...</td>\n",
       "      <td>...</td>\n",
       "      <td>...</td>\n",
       "      <td>...</td>\n",
       "      <td>...</td>\n",
       "      <td>...</td>\n",
       "      <td>...</td>\n",
       "      <td>...</td>\n",
       "      <td>...</td>\n",
       "      <td>...</td>\n",
       "      <td>...</td>\n",
       "    </tr>\n",
       "    <tr>\n",
       "      <td>1642</td>\n",
       "      <td>Zimbabwe</td>\n",
       "      <td>2004</td>\n",
       "      <td>Developing</td>\n",
       "      <td>44.3</td>\n",
       "      <td>12777511.0</td>\n",
       "      <td>723.0</td>\n",
       "      <td>42</td>\n",
       "      <td>27</td>\n",
       "      <td>33.6</td>\n",
       "      <td>65.0</td>\n",
       "      <td>...</td>\n",
       "      <td>67.0</td>\n",
       "      <td>9.4</td>\n",
       "      <td>9.4</td>\n",
       "      <td>4.36</td>\n",
       "      <td>27.1</td>\n",
       "      <td>454.366654</td>\n",
       "      <td>0.000000</td>\n",
       "      <td>7.13</td>\n",
       "      <td>0.407</td>\n",
       "      <td>9.2</td>\n",
       "    </tr>\n",
       "    <tr>\n",
       "      <td>1643</td>\n",
       "      <td>Zimbabwe</td>\n",
       "      <td>2003</td>\n",
       "      <td>Developing</td>\n",
       "      <td>44.5</td>\n",
       "      <td>12633897.0</td>\n",
       "      <td>715.0</td>\n",
       "      <td>41</td>\n",
       "      <td>26</td>\n",
       "      <td>36.7</td>\n",
       "      <td>68.0</td>\n",
       "      <td>...</td>\n",
       "      <td>7.0</td>\n",
       "      <td>9.9</td>\n",
       "      <td>9.8</td>\n",
       "      <td>4.06</td>\n",
       "      <td>26.7</td>\n",
       "      <td>453.351155</td>\n",
       "      <td>0.000000</td>\n",
       "      <td>6.52</td>\n",
       "      <td>0.418</td>\n",
       "      <td>9.5</td>\n",
       "    </tr>\n",
       "    <tr>\n",
       "      <td>1644</td>\n",
       "      <td>Zimbabwe</td>\n",
       "      <td>2002</td>\n",
       "      <td>Developing</td>\n",
       "      <td>44.8</td>\n",
       "      <td>125525.0</td>\n",
       "      <td>73.0</td>\n",
       "      <td>40</td>\n",
       "      <td>25</td>\n",
       "      <td>39.8</td>\n",
       "      <td>71.0</td>\n",
       "      <td>...</td>\n",
       "      <td>73.0</td>\n",
       "      <td>1.3</td>\n",
       "      <td>1.2</td>\n",
       "      <td>4.43</td>\n",
       "      <td>26.3</td>\n",
       "      <td>57.348340</td>\n",
       "      <td>0.000000</td>\n",
       "      <td>6.53</td>\n",
       "      <td>0.427</td>\n",
       "      <td>10.0</td>\n",
       "    </tr>\n",
       "    <tr>\n",
       "      <td>1645</td>\n",
       "      <td>Zimbabwe</td>\n",
       "      <td>2001</td>\n",
       "      <td>Developing</td>\n",
       "      <td>45.3</td>\n",
       "      <td>12366165.0</td>\n",
       "      <td>686.0</td>\n",
       "      <td>39</td>\n",
       "      <td>25</td>\n",
       "      <td>42.1</td>\n",
       "      <td>75.0</td>\n",
       "      <td>...</td>\n",
       "      <td>76.0</td>\n",
       "      <td>1.7</td>\n",
       "      <td>1.6</td>\n",
       "      <td>1.72</td>\n",
       "      <td>25.9</td>\n",
       "      <td>548.587312</td>\n",
       "      <td>0.000000</td>\n",
       "      <td>6.16</td>\n",
       "      <td>0.427</td>\n",
       "      <td>9.8</td>\n",
       "    </tr>\n",
       "    <tr>\n",
       "      <td>1646</td>\n",
       "      <td>Zimbabwe</td>\n",
       "      <td>2000</td>\n",
       "      <td>Developing</td>\n",
       "      <td>46.0</td>\n",
       "      <td>12222251.0</td>\n",
       "      <td>665.0</td>\n",
       "      <td>39</td>\n",
       "      <td>24</td>\n",
       "      <td>43.5</td>\n",
       "      <td>78.0</td>\n",
       "      <td>...</td>\n",
       "      <td>78.0</td>\n",
       "      <td>11.2</td>\n",
       "      <td>11.0</td>\n",
       "      <td>1.68</td>\n",
       "      <td>25.5</td>\n",
       "      <td>547.358879</td>\n",
       "      <td>0.000000</td>\n",
       "      <td>7.10</td>\n",
       "      <td>0.434</td>\n",
       "      <td>9.8</td>\n",
       "    </tr>\n",
       "  </tbody>\n",
       "</table>\n",
       "<p>1647 rows × 22 columns</p>\n",
       "</div>"
      ],
      "text/plain": [
       "          Country  Year      Status  Life Expectancy  Population  \\\n",
       "0     Afghanistan  2014  Developing             59.9    327582.0   \n",
       "1     Afghanistan  2013  Developing             59.9  31731688.0   \n",
       "2     Afghanistan  2012  Developing             59.5   3696958.0   \n",
       "3     Afghanistan  2011  Developing             59.2   2978599.0   \n",
       "4     Afghanistan  2010  Developing             58.8   2883167.0   \n",
       "...           ...   ...         ...              ...         ...   \n",
       "1642     Zimbabwe  2004  Developing             44.3  12777511.0   \n",
       "1643     Zimbabwe  2003  Developing             44.5  12633897.0   \n",
       "1644     Zimbabwe  2002  Developing             44.8    125525.0   \n",
       "1645     Zimbabwe  2001  Developing             45.3  12366165.0   \n",
       "1646     Zimbabwe  2000  Developing             46.0  12222251.0   \n",
       "\n",
       "      Adult Mortality  Under-Five Deaths  Infant Deaths  HIV/AIDS  Diphtheria  \\\n",
       "0               271.0                 86             64       0.1        62.0   \n",
       "1               268.0                 89             66       0.1        64.0   \n",
       "2               272.0                 93             69       0.1        67.0   \n",
       "3               275.0                 97             71       0.1        68.0   \n",
       "4               279.0                102             74       0.1        66.0   \n",
       "...               ...                ...            ...       ...         ...   \n",
       "1642            723.0                 42             27      33.6        65.0   \n",
       "1643            715.0                 41             26      36.7        68.0   \n",
       "1644             73.0                 40             25      39.8        71.0   \n",
       "1645            686.0                 39             25      42.1        75.0   \n",
       "1646            665.0                 39             24      43.5        78.0   \n",
       "\n",
       "      ...  Polio  Thinness 5-9 years  Thinness 1-19 years  Alcohol   BMI  \\\n",
       "0     ...   58.0                17.5                 17.5     0.01  18.6   \n",
       "1     ...   62.0                17.7                 17.7     0.01  18.1   \n",
       "2     ...   67.0                18.0                 17.9     0.01  17.6   \n",
       "3     ...   68.0                18.2                 18.2     0.01  17.2   \n",
       "4     ...   66.0                18.4                 18.4     0.01  16.7   \n",
       "...   ...    ...                 ...                  ...      ...   ...   \n",
       "1642  ...   67.0                 9.4                  9.4     4.36  27.1   \n",
       "1643  ...    7.0                 9.9                  9.8     4.06  26.7   \n",
       "1644  ...   73.0                 1.3                  1.2     4.43  26.3   \n",
       "1645  ...   76.0                 1.7                  1.6     1.72  25.9   \n",
       "1646  ...   78.0                11.2                 11.0     1.68  25.5   \n",
       "\n",
       "             GDP  Percentage Expenditure  Total Expenditure  \\\n",
       "0     612.696514               73.523582               8.18   \n",
       "1     631.744976               73.219243               8.13   \n",
       "2     669.959000               78.184215               8.52   \n",
       "3      63.537231                7.097109               7.87   \n",
       "4     553.328940               79.679367               9.20   \n",
       "...          ...                     ...                ...   \n",
       "1642  454.366654                0.000000               7.13   \n",
       "1643  453.351155                0.000000               6.52   \n",
       "1644   57.348340                0.000000               6.53   \n",
       "1645  548.587312                0.000000               6.16   \n",
       "1646  547.358879                0.000000               7.10   \n",
       "\n",
       "      Income Composition of Resources  Schooling  \n",
       "0                               0.476       10.0  \n",
       "1                               0.470        9.9  \n",
       "2                               0.463        9.8  \n",
       "3                               0.454        9.5  \n",
       "4                               0.448        9.2  \n",
       "...                               ...        ...  \n",
       "1642                            0.407        9.2  \n",
       "1643                            0.418        9.5  \n",
       "1644                            0.427       10.0  \n",
       "1645                            0.427        9.8  \n",
       "1646                            0.434        9.8  \n",
       "\n",
       "[1647 rows x 22 columns]"
      ]
     },
     "execution_count": 1,
     "metadata": {},
     "output_type": "execute_result"
    }
   ],
   "source": [
    "# Dependencies and Setup\n",
    "import matplotlib.pyplot as plt\n",
    "import numpy as np\n",
    "import os\n",
    "import pandas as pd\n",
    "import requests\n",
    "import time\n",
    "import scipy.stats as stats\n",
    "from scipy.stats import linregress\n",
    "from matplotlib.dates import DateFormatter\n",
    "\n",
    "# Read and display the Cleaned Data Output CSV File with Pandas\n",
    "csv_path = os.path.join('cleaned_data_output.csv')\n",
    "df = pd.read_csv(csv_path, encoding=\"ISO-8859-1\")\n",
    "del df [\"Unnamed: 0\"]\n",
    "df"
   ]
  },
  {
   "cell_type": "code",
   "execution_count": 2,
   "metadata": {},
   "outputs": [
    {
     "data": {
      "text/html": [
       "<div>\n",
       "<style scoped>\n",
       "    .dataframe tbody tr th:only-of-type {\n",
       "        vertical-align: middle;\n",
       "    }\n",
       "\n",
       "    .dataframe tbody tr th {\n",
       "        vertical-align: top;\n",
       "    }\n",
       "\n",
       "    .dataframe thead th {\n",
       "        text-align: right;\n",
       "    }\n",
       "</style>\n",
       "<table border=\"1\" class=\"dataframe\">\n",
       "  <thead>\n",
       "    <tr style=\"text-align: right;\">\n",
       "      <th></th>\n",
       "      <th>Country</th>\n",
       "      <th>Year</th>\n",
       "      <th>Status</th>\n",
       "      <th>Life Expectancy</th>\n",
       "      <th>Population</th>\n",
       "      <th>Adult Mortality</th>\n",
       "      <th>Under-Five Deaths</th>\n",
       "      <th>Infant Deaths</th>\n",
       "      <th>HIV/AIDS</th>\n",
       "      <th>Diphtheria</th>\n",
       "      <th>...</th>\n",
       "      <th>Polio</th>\n",
       "      <th>Thinness 5-9 years</th>\n",
       "      <th>Thinness 1-19 years</th>\n",
       "      <th>Alcohol</th>\n",
       "      <th>BMI</th>\n",
       "      <th>GDP</th>\n",
       "      <th>Percentage Expenditure</th>\n",
       "      <th>Total Expenditure</th>\n",
       "      <th>Income Composition of Resources</th>\n",
       "      <th>Schooling</th>\n",
       "    </tr>\n",
       "  </thead>\n",
       "  <tbody>\n",
       "    <tr>\n",
       "      <td>0</td>\n",
       "      <td>Afghanistan</td>\n",
       "      <td>2014</td>\n",
       "      <td>Developing</td>\n",
       "      <td>59.9</td>\n",
       "      <td>327582.0</td>\n",
       "      <td>271.0</td>\n",
       "      <td>86</td>\n",
       "      <td>64</td>\n",
       "      <td>0.1</td>\n",
       "      <td>62.0</td>\n",
       "      <td>...</td>\n",
       "      <td>58.0</td>\n",
       "      <td>17.5</td>\n",
       "      <td>17.5</td>\n",
       "      <td>0.01</td>\n",
       "      <td>18.6</td>\n",
       "      <td>612.696514</td>\n",
       "      <td>73.523582</td>\n",
       "      <td>8.18</td>\n",
       "      <td>0.476</td>\n",
       "      <td>10.0</td>\n",
       "    </tr>\n",
       "    <tr>\n",
       "      <td>1</td>\n",
       "      <td>Afghanistan</td>\n",
       "      <td>2013</td>\n",
       "      <td>Developing</td>\n",
       "      <td>59.9</td>\n",
       "      <td>31731688.0</td>\n",
       "      <td>268.0</td>\n",
       "      <td>89</td>\n",
       "      <td>66</td>\n",
       "      <td>0.1</td>\n",
       "      <td>64.0</td>\n",
       "      <td>...</td>\n",
       "      <td>62.0</td>\n",
       "      <td>17.7</td>\n",
       "      <td>17.7</td>\n",
       "      <td>0.01</td>\n",
       "      <td>18.1</td>\n",
       "      <td>631.744976</td>\n",
       "      <td>73.219243</td>\n",
       "      <td>8.13</td>\n",
       "      <td>0.470</td>\n",
       "      <td>9.9</td>\n",
       "    </tr>\n",
       "    <tr>\n",
       "      <td>2</td>\n",
       "      <td>Afghanistan</td>\n",
       "      <td>2012</td>\n",
       "      <td>Developing</td>\n",
       "      <td>59.5</td>\n",
       "      <td>3696958.0</td>\n",
       "      <td>272.0</td>\n",
       "      <td>93</td>\n",
       "      <td>69</td>\n",
       "      <td>0.1</td>\n",
       "      <td>67.0</td>\n",
       "      <td>...</td>\n",
       "      <td>67.0</td>\n",
       "      <td>18.0</td>\n",
       "      <td>17.9</td>\n",
       "      <td>0.01</td>\n",
       "      <td>17.6</td>\n",
       "      <td>669.959000</td>\n",
       "      <td>78.184215</td>\n",
       "      <td>8.52</td>\n",
       "      <td>0.463</td>\n",
       "      <td>9.8</td>\n",
       "    </tr>\n",
       "    <tr>\n",
       "      <td>3</td>\n",
       "      <td>Afghanistan</td>\n",
       "      <td>2011</td>\n",
       "      <td>Developing</td>\n",
       "      <td>59.2</td>\n",
       "      <td>2978599.0</td>\n",
       "      <td>275.0</td>\n",
       "      <td>97</td>\n",
       "      <td>71</td>\n",
       "      <td>0.1</td>\n",
       "      <td>68.0</td>\n",
       "      <td>...</td>\n",
       "      <td>68.0</td>\n",
       "      <td>18.2</td>\n",
       "      <td>18.2</td>\n",
       "      <td>0.01</td>\n",
       "      <td>17.2</td>\n",
       "      <td>63.537231</td>\n",
       "      <td>7.097109</td>\n",
       "      <td>7.87</td>\n",
       "      <td>0.454</td>\n",
       "      <td>9.5</td>\n",
       "    </tr>\n",
       "    <tr>\n",
       "      <td>4</td>\n",
       "      <td>Afghanistan</td>\n",
       "      <td>2010</td>\n",
       "      <td>Developing</td>\n",
       "      <td>58.8</td>\n",
       "      <td>2883167.0</td>\n",
       "      <td>279.0</td>\n",
       "      <td>102</td>\n",
       "      <td>74</td>\n",
       "      <td>0.1</td>\n",
       "      <td>66.0</td>\n",
       "      <td>...</td>\n",
       "      <td>66.0</td>\n",
       "      <td>18.4</td>\n",
       "      <td>18.4</td>\n",
       "      <td>0.01</td>\n",
       "      <td>16.7</td>\n",
       "      <td>553.328940</td>\n",
       "      <td>79.679367</td>\n",
       "      <td>9.20</td>\n",
       "      <td>0.448</td>\n",
       "      <td>9.2</td>\n",
       "    </tr>\n",
       "  </tbody>\n",
       "</table>\n",
       "<p>5 rows × 22 columns</p>\n",
       "</div>"
      ],
      "text/plain": [
       "       Country  Year      Status  Life Expectancy  Population  \\\n",
       "0  Afghanistan  2014  Developing             59.9    327582.0   \n",
       "1  Afghanistan  2013  Developing             59.9  31731688.0   \n",
       "2  Afghanistan  2012  Developing             59.5   3696958.0   \n",
       "3  Afghanistan  2011  Developing             59.2   2978599.0   \n",
       "4  Afghanistan  2010  Developing             58.8   2883167.0   \n",
       "\n",
       "   Adult Mortality  Under-Five Deaths  Infant Deaths  HIV/AIDS  Diphtheria  \\\n",
       "0            271.0                 86             64       0.1        62.0   \n",
       "1            268.0                 89             66       0.1        64.0   \n",
       "2            272.0                 93             69       0.1        67.0   \n",
       "3            275.0                 97             71       0.1        68.0   \n",
       "4            279.0                102             74       0.1        66.0   \n",
       "\n",
       "   ...  Polio  Thinness 5-9 years  Thinness 1-19 years  Alcohol   BMI  \\\n",
       "0  ...   58.0                17.5                 17.5     0.01  18.6   \n",
       "1  ...   62.0                17.7                 17.7     0.01  18.1   \n",
       "2  ...   67.0                18.0                 17.9     0.01  17.6   \n",
       "3  ...   68.0                18.2                 18.2     0.01  17.2   \n",
       "4  ...   66.0                18.4                 18.4     0.01  16.7   \n",
       "\n",
       "          GDP  Percentage Expenditure  Total Expenditure  \\\n",
       "0  612.696514               73.523582               8.18   \n",
       "1  631.744976               73.219243               8.13   \n",
       "2  669.959000               78.184215               8.52   \n",
       "3   63.537231                7.097109               7.87   \n",
       "4  553.328940               79.679367               9.20   \n",
       "\n",
       "   Income Composition of Resources  Schooling  \n",
       "0                            0.476       10.0  \n",
       "1                            0.470        9.9  \n",
       "2                            0.463        9.8  \n",
       "3                            0.454        9.5  \n",
       "4                            0.448        9.2  \n",
       "\n",
       "[5 rows x 22 columns]"
      ]
     },
     "execution_count": 2,
     "metadata": {},
     "output_type": "execute_result"
    }
   ],
   "source": [
    "# Create Developed and Developing DataFrames\n",
    "\n",
    "# Define variables to determine developed vs. developing countries\n",
    "developed_status = df[\"Status\"] == \"Developed\"\n",
    "developing_status = df[\"Status\"] == \"Developing\"\n",
    "\n",
    "# Place the variables from above into DataFrames \n",
    "developed_countries = df[developed_status]\n",
    "developing_countries = df[developing_status]\n",
    "\n",
    "# Reset the index for each DataFrame\n",
    "developed_countries = developed_countries.reset_index(drop=True)\n",
    "developing_countries = developing_countries.reset_index(drop=True)\n",
    "developing_countries.head()"
   ]
  },
  {
   "cell_type": "code",
   "execution_count": 3,
   "metadata": {},
   "outputs": [
    {
     "data": {
      "text/plain": [
       "Year\n",
       "2000    76.084615\n",
       "2001    76.571429\n",
       "2002    76.864286\n",
       "2003    77.213333\n",
       "2004    77.906667\n",
       "2005    78.313333\n",
       "2006    78.406667\n",
       "2007    78.462500\n",
       "2008    77.881250\n",
       "2009    78.337500\n",
       "2010    79.388235\n",
       "2011    80.721053\n",
       "2012    80.273684\n",
       "2013    80.300000\n",
       "2014    81.026316\n",
       "Name: Life Expectancy, dtype: float64"
      ]
     },
     "execution_count": 3,
     "metadata": {},
     "output_type": "execute_result"
    }
   ],
   "source": [
    "# Gather average life expectancies from 2000 - 2014 for developed countries\n",
    "avg_life_expectancy_developed = developed_countries.groupby('Year')['Life Expectancy'].mean()\n",
    "avg_life_expectancy_developed"
   ]
  },
  {
   "cell_type": "code",
   "execution_count": 4,
   "metadata": {},
   "outputs": [
    {
     "data": {
      "text/plain": [
       "Year\n",
       "2000    68.606250\n",
       "2001    68.557692\n",
       "2002    66.853731\n",
       "2003    66.681250\n",
       "2004    66.819318\n",
       "2005    66.918947\n",
       "2006    67.464646\n",
       "2007    67.168269\n",
       "2008    67.288785\n",
       "2009    67.389091\n",
       "2010    67.555856\n",
       "2011    68.004505\n",
       "2012    68.512727\n",
       "2013    68.690991\n",
       "2014    68.737500\n",
       "Name: Life Expectancy, dtype: float64"
      ]
     },
     "execution_count": 4,
     "metadata": {},
     "output_type": "execute_result"
    }
   ],
   "source": [
    "# Gather average life expectancies from 2000 - 2014 for developing countries\n",
    "avg_life_expectancy_developing = developing_countries.groupby('Year')['Life Expectancy'].mean()\n",
    "avg_life_expectancy_developing"
   ]
  },
  {
   "cell_type": "code",
   "execution_count": 5,
   "metadata": {},
   "outputs": [
    {
     "data": {
      "image/png": "[encoded data removed]",
      "text/plain": [
       "<Figure size 432x288 with 1 Axes>"
      ]
     },
     "metadata": {
      "needs_background": "light"
     },
     "output_type": "display_data"
    }
   ],
   "source": [
    "# Create a line plot for Average Life Expectancy\n",
    "life_expectancy_developed, = plt.plot(avg_life_expectancy_developed, marker=\"+\",color=\"blue\", linewidth=1, label=\"Developed Countries\")\n",
    "life_expectancy_developing, = plt.plot(avg_life_expectancy_developing, marker=\"+\",color=\"red\", linewidth=1, label=\"Developing Countries\")\n",
    "\n",
    "# Set our legend to where the chart thinks is best\n",
    "plt.legend(handles=[life_expectancy_developed, life_expectancy_developing], loc=\"best\")\n",
    "\n",
    "plt.title(\"Avg Life Expectancy in Developed vs. Developing Countries\")\n",
    "plt.xlabel(\"Year\")\n",
    "plt.ylabel(\"Average Life Expectancy Age\")\n",
    "plt.tight_layout()\n",
    "\n",
    "# Save the figure\n",
    "plt.savefig(\"Q1 Scatterplot (Life Expectancy vs. Year).png\")\n"
   ]
  },
  {
   "cell_type": "markdown",
   "metadata": {},
   "source": [
    "# Question 1b:  Which of the developed vs. developing countries has the highest and lowest life expectancies?"
   ]
  },
  {
   "cell_type": "code",
   "execution_count": 6,
   "metadata": {},
   "outputs": [
    {
     "data": {
      "text/plain": [
       "Status     Country  \n",
       "Developed  Ireland      83.440000\n",
       "           Italy        82.153333\n",
       "           Spain        82.020000\n",
       "           Australia    81.907143\n",
       "           Sweden       81.900000\n",
       "Name: Life Expectancy, dtype: float64"
      ]
     },
     "execution_count": 6,
     "metadata": {},
     "output_type": "execute_result"
    }
   ],
   "source": [
    "regrouped_developed = developed_countries.groupby([\"Status\", \"Country\"]).mean()[\"Life Expectancy\"]\n",
    "sorted_top5_developed = regrouped_developed.sort_values(ascending=False)\n",
    "sorted_top5_developed.head()"
   ]
  },
  {
   "cell_type": "code",
   "execution_count": 7,
   "metadata": {},
   "outputs": [
    {
     "data": {
      "text/plain": [
       "Status     Country  \n",
       "Developed  Bulgaria     72.740000\n",
       "           Lithuania    72.753333\n",
       "           Latvia       73.673333\n",
       "           Romania      73.986667\n",
       "           Poland       75.526667\n",
       "Name: Life Expectancy, dtype: float64"
      ]
     },
     "execution_count": 7,
     "metadata": {},
     "output_type": "execute_result"
    }
   ],
   "source": [
    "sorted_bottom5_developed = regrouped_developed.sort_values(ascending=True)\n",
    "sorted_bottom5_developed.head()"
   ]
  },
  {
   "cell_type": "code",
   "execution_count": 8,
   "metadata": {},
   "outputs": [
    {
     "data": {
      "text/plain": [
       "Status      Country\n",
       "Developing  Canada     82.233333\n",
       "            France     82.206667\n",
       "            Greece     81.233333\n",
       "            Israel     81.220000\n",
       "            Chile      79.944444\n",
       "Name: Life Expectancy, dtype: float64"
      ]
     },
     "execution_count": 8,
     "metadata": {},
     "output_type": "execute_result"
    }
   ],
   "source": [
    "regrouped_developing = developing_countries.groupby([\"Status\", \"Country\"]).mean()[\"Life Expectancy\"]\n",
    "sorted_top5_developing = regrouped_developing.sort_values(ascending=False)\n",
    "sorted_top5_developing.head()"
   ]
  },
  {
   "cell_type": "code",
   "execution_count": 9,
   "metadata": {},
   "outputs": [
    {
     "data": {
      "text/plain": [
       "Status      Country     \n",
       "Developing  Sierra Leone    48.425000\n",
       "            Lesotho         48.608333\n",
       "            Zimbabwe        49.386667\n",
       "            Malawi          50.261538\n",
       "            Angola          50.675000\n",
       "Name: Life Expectancy, dtype: float64"
      ]
     },
     "execution_count": 9,
     "metadata": {},
     "output_type": "execute_result"
    }
   ],
   "source": [
    "sorted_bottom5_developing = regrouped_developing.sort_values(ascending=True)\n",
    "sorted_bottom5_developing.head()"
   ]
  },
  {
   "cell_type": "markdown",
   "metadata": {},
   "source": [
    "# Question 2:  How does the social factor (Schooling) affect life expectancy in developed vs. developing countries?"
   ]
  },
  {
   "cell_type": "code",
   "execution_count": 10,
   "metadata": {
    "scrolled": true
   },
   "outputs": [
    {
     "name": "stdout",
     "output_type": "stream",
     "text": [
      "The Correlation (R) is: 0.36\n"
     ]
    },
    {
     "data": {
      "image/png": "[encoded data removed]",
      "text/plain": [
       "<Figure size 432x288 with 1 Axes>"
      ]
     },
     "metadata": {
      "needs_background": "light"
     },
     "output_type": "display_data"
    }
   ],
   "source": [
    "# Calculate the correlation coefficient and linear regression models\n",
    "\n",
    "# Define x-values and y-values and place into lists\n",
    "x_values = developed_countries[\"Schooling\"]\n",
    "y_values = developed_countries[\"Life Expectancy\"]\n",
    "\n",
    "# Perform a linear regression\n",
    "(slope, intercept, rvalue, pvalue, stderr) = stats.linregress(x_values, y_values)\n",
    "\n",
    "# Get regression values\n",
    "regress_values = x_values * slope + intercept\n",
    "\n",
    "# Create line equation string\n",
    "line_eq = \"y = \" + str(round(slope,2)) + \"x +\" + str(round(intercept,2))\n",
    "\n",
    "# Create a Scatterplot\n",
    "plt.scatter(x_values,y_values)\n",
    "plt.plot(x_values,regress_values,\"r-\")\n",
    "\n",
    "# Label plot and annotate the line equation\n",
    "plt.title(\"Life Expectancy vs. Schooling in Developed Countries\")\n",
    "plt.xlabel(\"Schooling\")\n",
    "plt.ylabel(\"Life Expectancy Age\")\n",
    "plt.annotate(line_eq,(17,72.5),fontsize=15,color=\"red\")\n",
    "\n",
    "# Print r value\n",
    "print(f\"The Correlation (R) is: {round(rvalue,2)}\")\n",
    "\n",
    "# Save the figure\n",
    "plt.savefig(\"Q2 Scatterplot (Life Expectancy vs. Schooling in Developed Countries).png\")\n",
    "\n",
    "\n",
    "# Show plot\n",
    "plt.show()"
   ]
  },
  {
   "cell_type": "code",
   "execution_count": 11,
   "metadata": {},
   "outputs": [
    {
     "name": "stdout",
     "output_type": "stream",
     "text": [
      "The Correlation (R) is: 0.67\n"
     ]
    },
    {
     "data": {
      "image/png": "[encoded data removed]",
      "text/plain": [
       "<Figure size 432x288 with 1 Axes>"
      ]
     },
     "metadata": {
      "needs_background": "light"
     },
     "output_type": "display_data"
    }
   ],
   "source": [
    "# Calculate the correlation coefficient and linear regression models\n",
    "\n",
    "# Define x-values and y-values and place into lists\n",
    "x_values = developing_countries[\"Schooling\"]\n",
    "y_values = developing_countries[\"Life Expectancy\"]\n",
    "\n",
    "# Perform a linear regression\n",
    "(slope, intercept, rvalue, pvalue, stderr) = stats.linregress(x_values, y_values)\n",
    "\n",
    "# Get regression values\n",
    "regress_values = x_values * slope + intercept\n",
    "\n",
    "# Create line equation string\n",
    "line_eq = \"y = \" + str(round(slope,2)) + \"x +\" + str(round(intercept,2))\n",
    "\n",
    "# Create a Scatterplot\n",
    "plt.scatter(x_values,y_values)\n",
    "plt.plot(x_values,regress_values,\"r-\")\n",
    "\n",
    "# Label plot and annotate the line equation\n",
    "plt.title(\"Life Expectancy vs. Schooling in Developing Countries\")\n",
    "plt.xlabel(\"Schooling\")\n",
    "plt.ylabel(\"Life Expectancy Age\")\n",
    "plt.annotate(line_eq,(5,80),fontsize=15,color=\"red\")\n",
    "\n",
    "# Print r value\n",
    "print(f\"The Correlation (R) is: {round(rvalue,2)}\")\n",
    "\n",
    "# Save the figure\n",
    "plt.savefig(\"Q2 Scatterplot (Life Expectancy vs. Schooling in Developing Countries).png\")\n",
    "\n",
    "# Show plot\n",
    "plt.show()"
   ]
  },
  {
   "cell_type": "code",
   "execution_count": 12,
   "metadata": {},
   "outputs": [
    {
     "data": {
      "text/plain": [
       "Year\n",
       "2000    14.484615\n",
       "2001    15.050000\n",
       "2002    15.292857\n",
       "2003    15.273333\n",
       "2004    15.486667\n",
       "2005    15.326667\n",
       "2006    15.420000\n",
       "2007    15.312500\n",
       "2008    15.450000\n",
       "2009    15.562500\n",
       "2010    15.835294\n",
       "2011    16.021053\n",
       "2012    16.036842\n",
       "2013    16.057895\n",
       "2014    16.236842\n",
       "Name: Schooling, dtype: float64"
      ]
     },
     "execution_count": 12,
     "metadata": {},
     "output_type": "execute_result"
    }
   ],
   "source": [
    "avg_schooling_developed = developed_countries.groupby('Year')['Schooling'].mean()\n",
    "avg_schooling_developed"
   ]
  },
  {
   "cell_type": "code",
   "execution_count": 13,
   "metadata": {},
   "outputs": [
    {
     "data": {
      "text/plain": [
       "Year\n",
       "2000    11.308333\n",
       "2001    11.357692\n",
       "2002    11.164179\n",
       "2003    11.147500\n",
       "2004    11.212500\n",
       "2005    11.262105\n",
       "2006    11.383838\n",
       "2007    11.307692\n",
       "2008    11.399065\n",
       "2009    11.410000\n",
       "2010    11.563063\n",
       "2011    11.726126\n",
       "2012    11.937273\n",
       "2013    12.024324\n",
       "2014    12.072321\n",
       "Name: Schooling, dtype: float64"
      ]
     },
     "execution_count": 13,
     "metadata": {},
     "output_type": "execute_result"
    }
   ],
   "source": [
    "avg_schooling_developing = developing_countries.groupby('Year')['Schooling'].mean()\n",
    "avg_schooling_developing"
   ]
  },
  {
   "cell_type": "code",
   "execution_count": 14,
   "metadata": {},
   "outputs": [
    {
     "data": {
      "image/png": "[encoded data removed]",
      "text/plain": [
       "<Figure size 432x288 with 1 Axes>"
      ]
     },
     "metadata": {
      "needs_background": "light"
     },
     "output_type": "display_data"
    }
   ],
   "source": [
    "# Create a line plot for Average Schooling\n",
    "schooling_developed, = plt.plot(avg_schooling_developed, marker=\"+\",color=\"blue\", linewidth=1, label=\"Developed Countries\")\n",
    "schooling_developing, = plt.plot(avg_schooling_developing, marker=\"+\",color=\"red\", linewidth=1, label=\"Developing Countries\")\n",
    "\n",
    "# Set our legend to where the chart thinks is best\n",
    "plt.legend(handles=[schooling_developed, schooling_developing], loc=\"best\")\n",
    "\n",
    "plt.title(\"Schooling between Developed vs. Developing Countries\")\n",
    "plt.xlabel(\"Year\")\n",
    "plt.ylabel(\"Schooling\")\n",
    "plt.tight_layout()\n",
    "\n",
    "# Save the figure\n",
    "plt.savefig(\"Q2 Scatterplot (Schooling vs. Year).png\")\n"
   ]
  },
  {
   "cell_type": "markdown",
   "metadata": {},
   "source": [
    "# Question 3:  How does the lifestyle factor (Alcohol) affect life expectancy in developed vs. developing countries?"
   ]
  },
  {
   "cell_type": "code",
   "execution_count": 15,
   "metadata": {},
   "outputs": [],
   "source": [
    "# Set the index as the 'status' of each country\n",
    "status_df = df.set_index(\"Status\")\n",
    "\n",
    "# Separate developed/developing countries\n",
    "developing = status_df.loc['Developing']\n",
    "developed = status_df.loc['Developed']\n",
    "\n",
    "# Gather data from Alcohol and Life Expectancy columns\n",
    "developed_alcohol = developed.groupby('Country')['Alcohol'].mean()\n",
    "developed_life_expectancy = developed.groupby('Country')['Life Expectancy'].mean()\n",
    "\n",
    "developing_alcohol = developing.groupby('Country')['Alcohol'].mean()\n",
    "developing_life_expectancy = developing.groupby('Country')['Life Expectancy'].mean()"
   ]
  },
  {
   "cell_type": "code",
   "execution_count": 16,
   "metadata": {},
   "outputs": [
    {
     "name": "stdout",
     "output_type": "stream",
     "text": [
      "The Correlation (R) is: -0.16\n"
     ]
    },
    {
     "data": {
      "image/png": "[encoded data removed]",
      "text/plain": [
       "<Figure size 432x288 with 1 Axes>"
      ]
     },
     "metadata": {
      "needs_background": "light"
     },
     "output_type": "display_data"
    }
   ],
   "source": [
    "# Plot Alcohol vs. Life Expectancy for developed countries\n",
    "fig1 = plt.figure(1)\n",
    "dev_alc_graph = plt.scatter(developed_alcohol, developed_life_expectancy, color='blue')\n",
    "plt.title(\"Alcohol Consumption vs. Life Expectancy for Developed Countries\")\n",
    "plt.xlabel(\"Alcohol Consumption per capita income (Liters)\")\n",
    "plt.ylabel(\"Life Expectancy (Years)\")\n",
    "\n",
    "# linear regression\n",
    "(slope, intercept, rvalue, pvalue, stderr) = linregress(developed_alcohol, developed_life_expectancy)\n",
    "regress_values = developed_alcohol * slope + intercept\n",
    "line_eq = \"y = \" + str(round(slope,2)) + \"x + \" + str(round(intercept,2))\n",
    "plt.plot(developed_alcohol,regress_values,\"r-\")\n",
    "plt.annotate(line_eq,(9,78),fontsize=15,color=\"red\")\n",
    "print(f\"The Correlation (R) is: {round(rvalue,2)}\")\n",
    "plt.savefig(\"Q3 Scatterplot (Life Expectancy vs. Alcohol in Developed Countries).png\")\n",
    "plt.show()"
   ]
  },
  {
   "cell_type": "code",
   "execution_count": 17,
   "metadata": {},
   "outputs": [
    {
     "name": "stdout",
     "output_type": "stream",
     "text": [
      "The Correlation (R) is: 0.28\n"
     ]
    },
    {
     "data": {
      "image/png": "[encoded data removed]",
      "text/plain": [
       "<Figure size 432x288 with 1 Axes>"
      ]
     },
     "metadata": {
      "needs_background": "light"
     },
     "output_type": "display_data"
    }
   ],
   "source": [
    "# Plot Alcohol vs. Life Expectancy for developing countries\n",
    "fig2 = plt.figure(2)\n",
    "deving_alc_graph = plt.scatter(developing_alcohol, developing_life_expectancy, color='blue')\n",
    "plt.title(\"Alcohol Consumption vs. Life Expectancy for Developing Countries\")\n",
    "plt.xlabel(\"Alcohol Consumption per capita income (Liters)\")\n",
    "plt.ylabel(\"Life Expectancy (Years)\")\n",
    "\n",
    "# linear regression\n",
    "(slope, intercept, rvalue, pvalue, stderr) = linregress(developing_alcohol, developing_life_expectancy)\n",
    "regress_values = developing_alcohol * slope + intercept\n",
    "line_eq = \"y = \" + str(round(slope,2)) + \"x + \" + str(round(intercept,2))\n",
    "plt.plot(developing_alcohol,regress_values,\"r-\")\n",
    "plt.annotate(line_eq,(8,64),fontsize=15,color=\"red\")\n",
    "print(f\"The Correlation (R) is: {round(rvalue,2)}\")\n",
    "plt.savefig(\"Q3 Scatterplot (Life Expectancy vs. Alcohol in Developing Countries).png\")\n",
    "plt.show()"
   ]
  },
  {
   "cell_type": "markdown",
   "metadata": {},
   "source": [
    "# Question 4:  Which of the developed vs. developing countries has the highest adult mortality?"
   ]
  },
  {
   "cell_type": "code",
   "execution_count": 18,
   "metadata": {},
   "outputs": [
    {
     "data": {
      "image/png": "[encoded data removed]",
      "text/plain": [
       "<Figure size 1080x360 with 1 Axes>"
      ]
     },
     "metadata": {
      "needs_background": "light"
     },
     "output_type": "display_data"
    }
   ],
   "source": [
    "#Set our index as the development status (either developed or developing)\n",
    "development_status_df = df.set_index(\"Status\")\n",
    "\n",
    "#Divide our data by their development status\n",
    "developing = development_status_df.loc[\"Developing\"]\n",
    "developed = development_status_df.loc[\"Developed\"]\n",
    "\n",
    "#Take the average adult mortality rate for our developed and developing countries\n",
    "developing_adult_mortality = developing.groupby('Country')['Adult Mortality'].mean()\n",
    "developed_adult_mortality = developed.groupby('Country')['Adult Mortality'].mean()\n",
    "\n",
    "#Sort developed and developing countries from highest mortality rate to lowest\n",
    "developing_adult_mortality = developing_adult_mortality.sort_values(ascending=False)\n",
    "developed_adult_mortality = developed_adult_mortality.sort_values(ascending=False)\n",
    "\n",
    "#Capture the top ten countries with the highest mortality rates\n",
    "top_developing_mortality = developing_adult_mortality.head(10)\n",
    "top_developing_countries = [\"Lesotho\", \"Zimbabwe\", \"Botswana\", \"Central African Republic\",\n",
    "                           \"South Africa\", \"Malawi\", \"Zambia\", \"Angola\", \"Kenya\", \"Nigeria\"]\n",
    "\n",
    "#Set x-axis for bar chart\n",
    "x_axis = np.arange(len(top_developing_mortality))\n",
    "tick_locations = [value for value in x_axis]\n",
    "\n",
    "#Create barchart using Matplotlib\n",
    "plt.figure(figsize=(15,5))\n",
    "plt.bar(x_axis, top_developing_mortality, color='r', alpha=0.5, align=\"center\")\n",
    "plt.xticks(tick_locations, top_developing_countries, rotation=\"vertical\")\n",
    "\n",
    "#Title, label, save, and display our bar chart\n",
    "plt.title(\"Highest Average Adult Mortality Rates in Developing Countries\")\n",
    "plt.ylabel(\"Avg Adult Mortality Rate (per 1000 people)\")\n",
    "plt.rcParams.update({'font.size': 10})\n",
    "plt.savefig(\"Q4 Barchart (Adult Mortality in Developing Countries).png\")\n",
    "plt.show()"
   ]
  },
  {
   "cell_type": "code",
   "execution_count": 19,
   "metadata": {},
   "outputs": [
    {
     "data": {
      "image/png": "[encoded data removed]",
      "text/plain": [
       "<Figure size 1080x360 with 1 Axes>"
      ]
     },
     "metadata": {
      "needs_background": "light"
     },
     "output_type": "display_data"
    }
   ],
   "source": [
    "#Capture top ten developed countries with highest mortality rates\n",
    "top_developed_mortality = developed_adult_mortality.head(10)\n",
    "top_developed_countries = [\"Latvia\", \"Romania\", \"Bulgaria\", \"Lithuania\", \"Poland\",\n",
    "                          \"Germany\", \"Poland\", \"Germany\", \"Belgium\", \"Luxembourg\"]\n",
    "\n",
    "#Set x-axis for bar chart\n",
    "x_axis = np.arange(len(top_developed_mortality))\n",
    "tick_locations = [value for value in x_axis]\n",
    "\n",
    "#Create bar chart for top ten developed countries with highest mortality rates\n",
    "plt.figure(figsize=(15,5))\n",
    "plt.bar(x_axis, top_developed_mortality, color='r', alpha=0.5, align=\"center\")\n",
    "plt.xticks(tick_locations, top_developed_countries, rotation=\"vertical\")\n",
    "\n",
    "#Title, lable, save and display our bar chart\n",
    "plt.title(\"Highest Average Adult Mortality Rates in Developed Countries\")\n",
    "plt.ylabel(\"Avg Adult Mortality Rate (per 1000 people)\")\n",
    "plt.rcParams.update({'font.size': 10})\n",
    "plt.savefig(\" Q4 Barchart (Adult Mortality in Developed Countries).png\")\n",
    "plt.show()"
   ]
  },
  {
   "cell_type": "markdown",
   "metadata": {},
   "source": [
    "# Question 5:  How does the economic factor (income composition of resources) affect life expectancy in developed vs. developing countries?"
   ]
  },
  {
   "cell_type": "code",
   "execution_count": 20,
   "metadata": {},
   "outputs": [
    {
     "name": "stdout",
     "output_type": "stream",
     "text": [
      "The Correlation (R) is: 0.83\n"
     ]
    },
    {
     "data": {
      "image/png": "[encoded data removed]",
      "text/plain": [
       "<Figure size 432x288 with 1 Axes>"
      ]
     },
     "metadata": {
      "needs_background": "light"
     },
     "output_type": "display_data"
    }
   ],
   "source": [
    "# Income Composition vs Life Expectancy for Developed Country\n",
    "developed_income = df.loc[df[\"Status\"] == \"Developed\", [\"Country\", \"Life Expectancy\", \"Income Composition of Resources\"]]\n",
    "\n",
    "country_groupby = developed_income.groupby(\"Country\").mean()\n",
    "\n",
    "# Define x-values and y-values and place into lists\n",
    "x_values = country_groupby[\"Income Composition of Resources\"]\n",
    "y_values = country_groupby[\"Life Expectancy\"]\n",
    "\n",
    "# Perform a linear regression\n",
    "(slope, intercept, rvalue, pvalue, stderr) = stats.linregress(x_values, y_values)\n",
    "\n",
    "# Get regression values\n",
    "regress_values = x_values * slope + intercept\n",
    "\n",
    "# Create line equation string\n",
    "line_eq = \"y = \" + str(round(slope,2)) + \"x +\" + str(round(intercept,2))\n",
    "r_value = \"R = \" + str(round(rvalue,2))\n",
    "\n",
    "# Create a Scatterplot\n",
    "plt.scatter(x_values,y_values)\n",
    "plt.plot(x_values,regress_values,\"r-\")\n",
    "\n",
    "# Label plot and annotate the line equation\n",
    "plt.title(\"Avg Life Expectancy vs. Income Composition of Resources for Developed Countries\")\n",
    "plt.xlabel(\"Income Composition of Resources\")\n",
    "plt.ylabel(\"Life Expectancy Age\")\n",
    "plt.annotate(line_eq,(0.76,82),fontsize=15,color=\"red\")\n",
    "plt.annotate(r_value,(0.76,81),fontsize=15,color=\"red\")\n",
    "\n",
    "# Print r value\n",
    "print(f\"The Correlation (R) is: {round(rvalue,2)}\")\n",
    "\n",
    "# Save the figure\n",
    "plt.savefig(\" Q5 Scatterplot (Life Expectancy vs. Income Composition in Developed Countries).png\")\n",
    "\n",
    "# Show plot\n",
    "plt.show()"
   ]
  },
  {
   "cell_type": "code",
   "execution_count": 21,
   "metadata": {},
   "outputs": [
    {
     "name": "stdout",
     "output_type": "stream",
     "text": [
      "The Correlation (R) is: 0.74\n"
     ]
    },
    {
     "data": {
      "image/png": "[encoded data removed]",
      "text/plain": [
       "<Figure size 432x288 with 1 Axes>"
      ]
     },
     "metadata": {
      "needs_background": "light"
     },
     "output_type": "display_data"
    }
   ],
   "source": [
    "# Income Composition vs Life Expectancy for Developing Country\n",
    "developing_income = df.loc[df[\"Status\"] == \"Developing\", [\"Country\", \"Life Expectancy\", \"Income Composition of Resources\"]]\n",
    "\n",
    "country_groupby = developing_income.groupby(\"Country\").mean()\n",
    "\n",
    "# Define x-values and y-values and place into lists\n",
    "x_values = country_groupby[\"Income Composition of Resources\"]\n",
    "y_values = country_groupby[\"Life Expectancy\"]\n",
    "\n",
    "# Perform a linear regression\n",
    "(slope, intercept, rvalue, pvalue, stderr) = stats.linregress(x_values, y_values)\n",
    "\n",
    "# Get regression values\n",
    "regress_values = x_values * slope + intercept\n",
    "\n",
    "# Create line equation string\n",
    "line_eq = \"y = \" + str(round(slope,2)) + \"x +\" + str(round(intercept,2))\n",
    "r_value = \"R = \" + str(round(rvalue,2))\n",
    "\n",
    "# Create a Scatterplot\n",
    "plt.scatter(x_values,y_values)\n",
    "plt.plot(x_values,regress_values,\"r-\")\n",
    "\n",
    "# Label plot and annotate the line equation\n",
    "plt.title(\"Avg Life Expectancy vs. Income Composition of Resources for Developing Countries\")\n",
    "plt.xlabel(\"Income Composition of Resources\")\n",
    "plt.ylabel(\"Life Expectancy Age\")\n",
    "plt.annotate(line_eq,(0.3,79),fontsize=15,color=\"red\")\n",
    "plt.annotate(r_value,(0.3,75),fontsize=15,color=\"red\")\n",
    "\n",
    "# Print r value\n",
    "print(f\"The Correlation (R) is: {round(rvalue,2)}\")\n",
    "\n",
    "# Save the figure\n",
    "plt.savefig(\" Q5 Scatterplot (Life Expectancy vs. Income Composition in Developing Countries).png\")\n",
    "\n",
    "# Show plot\n",
    "plt.show()"
   ]
  },
  {
   "cell_type": "markdown",
   "metadata": {},
   "source": [
    "# End of Data Analysis"
   ]
  }
 ],
 "metadata": {
  "kernelspec": {
   "display_name": "Python 3",
   "language": "python",
   "name": "python3"
  },
  "language_info": {
   "codemirror_mode": {
    "name": "ipython",
    "version": 3
   },
   "file_extension": ".py",
   "mimetype": "text/x-python",
   "name": "python",
   "nbconvert_exporter": "python",
   "pygments_lexer": "ipython3",
   "version": "3.7.4"
  }
 },
 "nbformat": 4,
 "nbformat_minor": 2
}
